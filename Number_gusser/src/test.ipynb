{
 "cells": [
  {
   "cell_type": "code",
   "execution_count": null,
   "id": "26f23660",
   "metadata": {},
   "outputs": [],
   "source": [
    "class score: \n",
    "    def __init__(self, initial_score=100):\n",
    "        self.score = initial_score\n",
    "\n",
    "    def decrement_score (self, penalty=10):\n",
    "        ##Decrese penalty score## \n",
    "        self.score -= penalty\n",
    "        self.score = max(self.score, 0)\n",
    "         \n",
    "    def get_score (self): \n",
    "        ##return current score##\n",
    "        return self.score"
   ]
  }
 ],
 "metadata": {
  "kernelspec": {
   "display_name": "Python 3",
   "language": "python",
   "name": "python3"
  },
  "language_info": {
   "codemirror_mode": {
    "name": "ipython",
    "version": 3
   },
   "file_extension": ".py",
   "mimetype": "text/x-python",
   "name": "python",
   "nbconvert_exporter": "python",
   "pygments_lexer": "ipython3",
   "version": "3.10.12"
  }
 },
 "nbformat": 4,
 "nbformat_minor": 5
}
