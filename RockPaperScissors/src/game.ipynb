{
 "cells": [
  {
   "cell_type": "code",
   "execution_count": 13,
   "id": "e1fe0ffd",
   "metadata": {},
   "outputs": [],
   "source": [
    "import random\n",
    "\n",
    "class RockPaperScissors:\n",
    "    def __init__(self, name): \n",
    "        self.choices = ['rock', 'paper', 'scissors']\n",
    "        self.player_name = name \n",
    "    \n",
    "    def get_player_choice(self): \n",
    "        user_choice= input (f'Enter your choice {{self.choices}}')\n",
    "        if user_choice.lower() in self.choices: \n",
    "            return user_choice.lower()\n",
    "        \n",
    "        print(f'Invalid choice, you must select from {{self.choices}} ')\n",
    "        return self.get_player_choice()\n",
    "\n",
    "    def get_camputer_choice (self):\n",
    "        return random.choice(self.choices)\n",
    "        \n",
    "\n",
    "#    def decide_winner(self):\n",
    "#        decide =  \n",
    "    #get_player_choice\n",
    "    #get_camputer_choice\n",
    "    #decide_winner\n",
    "    #play()\n",
    "    def play(self): \n",
    "        user_choice = self.get_player_choice()\n",
    "        camputer_choice = self.get_camputer_choice()\n",
    "        print(user_choice, camputer_choice)\n",
    "\n",
    "#class gameLogic(RockPaperScissors): \n",
    "#    def decide_winner(): \n",
    "#        if user_choice == 'rock' "
   ]
  },
  {
   "cell_type": "code",
   "execution_count": 17,
   "id": "a0a21eee",
   "metadata": {},
   "outputs": [
    {
     "name": "stdout",
     "output_type": "stream",
     "text": [
      "paper scissors\n"
     ]
    }
   ],
   "source": [
    "game = RockPaperScissors('parinaz')\n",
    "game.play()\n"
   ]
  },
  {
   "cell_type": "code",
   "execution_count": null,
   "id": "3489bb62",
   "metadata": {},
   "outputs": [],
   "source": [
    "#get player choice\n",
    "#generate computer choice\n",
    "#get winner\n",
    "#playagain?\n"
   ]
  }
 ],
 "metadata": {
  "kernelspec": {
   "display_name": "Python 3",
   "language": "python",
   "name": "python3"
  },
  "language_info": {
   "codemirror_mode": {
    "name": "ipython",
    "version": 3
   },
   "file_extension": ".py",
   "mimetype": "text/x-python",
   "name": "python",
   "nbconvert_exporter": "python",
   "pygments_lexer": "ipython3",
   "version": "3.10.12"
  }
 },
 "nbformat": 4,
 "nbformat_minor": 5
}
