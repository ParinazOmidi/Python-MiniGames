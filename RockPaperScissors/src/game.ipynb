{
 "cells": [
  {
   "cell_type": "code",
   "execution_count": null,
   "id": "e1fe0ffd",
   "metadata": {},
   "outputs": [],
   "source": [
    "import random\n",
    "\n",
    "class RockPaperScissors:\n",
    "    def __init__(self, name): \n",
    "        self.choices = ['rock', 'paper', 'scissors']\n",
    "        self.player_name = name \n",
    "\n",
    "\n",
    "    def get_player_choice(self): \n",
    "        user_choice= input (f'Enter your choice ({self.choices}): ')\n",
    "        if user_choice.lower() in self.choices: \n",
    "            return user_choice.lower()\n",
    "        \n",
    "        print(f'Invalid choice, you must select from {self.choices}. ')\n",
    "        return self.get_player_choice()\n",
    "\n",
    "\n",
    "    def get_camputer_choice (self):\n",
    "        return random.choice(self.choices)\n",
    "\n",
    "\n",
    "    def decide_winner(self, user_choice , camputer_choice):\n",
    "        if user_choice == camputer_choice: \n",
    "            return \"It's a Tie!\"\n",
    "        \n",
    "        win_combination = [ \n",
    "            ('paper','rock'),\n",
    "            ('scissors','paper'),\n",
    "            ('rock','scissors')\n",
    "        ]\n",
    "        for win_comb in  win_combination: \n",
    "            if (user_choice == win_comb[0]) & (camputer_choice == win_comb[1]):\n",
    "                return (f\"{self.player_name} won the game!\")\n",
    "            \n",
    "    \n",
    "        return (f\"{self.player_name} Sorry it seems you lose the game!\")\n",
    "\n",
    "\n",
    "    def play(self): \n",
    "        user_choice = self.get_player_choice()\n",
    "        camputer_choice = self.get_camputer_choice()\n",
    "        print(f'Computer choice: {camputer_choice}')\n",
    "        winner_message= self.decide_winner(user_choice, camputer_choice)\n",
    "        print(winner_message)"
   ]
  },
  {
   "cell_type": "code",
   "execution_count": 27,
   "id": "a0a21eee",
   "metadata": {},
   "outputs": [
    {
     "name": "stdout",
     "output_type": "stream",
     "text": [
      "rock paper\n",
      "parinaz Sorry it seems you lose the game!\n",
      "Invalid choice, you must select from ['rock', 'paper', 'scissors']. \n",
      "paper rock\n",
      "parinaz won the game!\n",
      "rock rock\n",
      "It's a Tie!\n",
      "paper scissors\n",
      "parinaz Sorry it seems you lose the game!\n"
     ]
    }
   ],
   "source": [
    "game = RockPaperScissors('parinaz')\n",
    "while True: \n",
    "    game.play()\n",
    "\n",
    "    continue_game = input('do you want to play again? (Enter any key to play again, enter q to exit) ')\n",
    "    if continue_game.lower() == 'q': \n",
    "        break\n"
   ]
  },
  {
   "cell_type": "code",
   "execution_count": null,
   "id": "2377c221",
   "metadata": {},
   "outputs": [],
   "source": []
  },
  {
   "cell_type": "code",
   "execution_count": null,
   "id": "3489bb62",
   "metadata": {},
   "outputs": [],
   "source": [
    "#get player choice\n",
    "#generate computer choice\n",
    "#get winner\n",
    "#playagain?\n"
   ]
  }
 ],
 "metadata": {
  "kernelspec": {
   "display_name": "Python 3",
   "language": "python",
   "name": "python3"
  },
  "language_info": {
   "codemirror_mode": {
    "name": "ipython",
    "version": 3
   },
   "file_extension": ".py",
   "mimetype": "text/x-python",
   "name": "python",
   "nbconvert_exporter": "python",
   "pygments_lexer": "ipython3",
   "version": "3.10.12"
  }
 },
 "nbformat": 4,
 "nbformat_minor": 5
}
